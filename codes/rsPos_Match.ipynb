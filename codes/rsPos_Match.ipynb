{
 "cells": [
  {
   "cell_type": "code",
   "execution_count": 1,
   "metadata": {},
   "outputs": [],
   "source": [
    "# Code to get a gene position from dbSNP ID\n",
    "# Example of the webpage to access;\n",
    "# https://eutils.ncbi.nlm.nih.gov/entrez/eutils/efetch.fcgi?db=snp&id=2230288&report=XML\n",
    "# RefSeq accession.version of GRCh37 can be seen in the following link\n",
    "# https://www.ncbi.nlm.nih.gov/grc/human/data?asm=GRCh37\n",
    "# (https://www.ncbi.nlm.nih.gov/grc/human/data?asm=GRCh38)\n",
    "\n",
    "from bs4 import BeautifulSoup, SoupStrainer\n",
    "import requests\n",
    "import re\n",
    "import time\n",
    "import pandas as pd"
   ]
  },
  {
   "cell_type": "code",
   "execution_count": 2,
   "metadata": {},
   "outputs": [
    {
     "data": {
      "text/plain": [
       "['NC_000001.10', 'NC_000002.11', 'NC_000003.11']"
      ]
     },
     "execution_count": 2,
     "metadata": {},
     "output_type": "execute_result"
    }
   ],
   "source": [
    "response = requests.get('https://www.ncbi.nlm.nih.gov/grc/human/data?asm=GRCh37')\n",
    "html_str = response.text\n",
    "bs = BeautifulSoup(html_str, \"html5lib\")\n",
    "# print(bs.prettify())\n",
    "ACVER=bs.find_all(text = re.compile(\"NC_000\"))\n",
    "ACVER[0:3]"
   ]
  },
  {
   "cell_type": "code",
   "execution_count": 3,
   "metadata": {},
   "outputs": [
    {
     "name": "stdout",
     "output_type": "stream",
     "text": [
      "NC_000001.10|NC_000002.11|NC_000003.11|NC_000004.11|NC_000005.9|NC_000006.11|NC_000007.13|NC_000008.10|NC_000009.11|NC_000010.10|NC_000011.9|NC_000012.11|NC_000013.10|NC_000014.8|NC_000015.9|NC_000016.9|NC_000017.10|NC_000018.9|NC_000019.9|NC_000020.10|NC_000021.8|NC_000022.10|NC_000023.10|NC_000024.9\n"
     ]
    }
   ],
   "source": [
    "ACVERS = \"|\".join(ACVER)\n",
    "print(ACVERS)"
   ]
  },
  {
   "cell_type": "code",
   "execution_count": 4,
   "metadata": {
    "scrolled": true
   },
   "outputs": [
    {
     "data": {
      "text/plain": [
       "'NC_000001.10:g.155206167C>T'"
      ]
     },
     "execution_count": 4,
     "metadata": {},
     "output_type": "execute_result"
    }
   ],
   "source": [
    "response = requests.get('https://eutils.ncbi.nlm.nih.gov/entrez/eutils/efetch.fcgi?db=snp&id=2230288&report=XML')\n",
    "html_str = response.text\n",
    "bs = BeautifulSoup(html_str, \"html5lib\")\n",
    "bs.find(text = re.compile(ACVERS))"
   ]
  },
  {
   "cell_type": "code",
   "execution_count": 5,
   "metadata": {},
   "outputs": [
    {
     "name": "stdout",
     "output_type": "stream",
     "text": [
      "['NC_000004.11:g.90759047G>T', 'NC_000004.11:g.90759887A>G', 'NC_000001.10:g.155206167C>T']\n"
     ]
    }
   ],
   "source": [
    "IDs = [\"2619363\", \"2619364\", \"2230288\"]\n",
    "POSs = []\n",
    "for ID in IDs:\n",
    "    response = requests.get('https://eutils.ncbi.nlm.nih.gov/entrez/eutils/efetch.fcgi?db=snp&id=' + ID + '&report=XML') \n",
    "    html_str = response.text \n",
    "    bs = BeautifulSoup(html_str, \"html5lib\") \n",
    "    POSs.append(bs.find(text = re.compile(ACVERS)))\n",
    "    time.sleep(1/3) # three requests per second (Guideline)\n",
    "print(POSs)"
   ]
  },
  {
   "cell_type": "code",
   "execution_count": 6,
   "metadata": {},
   "outputs": [
    {
     "name": "stdout",
     "output_type": "stream",
     "text": [
      "           Gene       RS ID Alternate RS ID  \\\n",
      "0  LRRK2 G2019S  rs34637584             NaN   \n",
      "1  LRRK2 R1441G  rs33939927             NaN   \n",
      "2  LRRK2 R1441C  rs33939927             NaN   \n",
      "3  LRRK2 Y1699C  rs35801418             NaN   \n",
      "4  LRRK2 G2385R  rs34778348             NaN   \n",
      "\n",
      "  Region BRIT IS THIS COLUMN NEEDED OR CAN I DELETE IT?  \n",
      "0                                                NaN     \n",
      "1                                                NaN     \n",
      "2                                                NaN     \n",
      "3                                                NaN     \n",
      "4                                                NaN     \n"
     ]
    }
   ],
   "source": [
    "df = pd.read_csv('S4SNPs.csv')\n",
    "print(df[0:5]) "
   ]
  },
  {
   "cell_type": "code",
   "execution_count": 7,
   "metadata": {},
   "outputs": [
    {
     "data": {
      "text/plain": [
       "['34637584', '33939927', '33939927', '35801418', '34778348']"
      ]
     },
     "execution_count": 7,
     "metadata": {},
     "output_type": "execute_result"
    }
   ],
   "source": [
    "IDs = [i[2:] for i in df.iloc[:, 1] if \"rs\" in str(i)]\n",
    "IDs[:5]"
   ]
  },
  {
   "cell_type": "code",
   "execution_count": 8,
   "metadata": {},
   "outputs": [
    {
     "name": "stdout",
     "output_type": "stream",
     "text": [
      "['NC_000012.11:g.40734202G>A', 'NC_000012.11:g.40704236C>A', 'NC_000012.11:g.40704236C>A', 'NC_000012.11:g.40714916A>G', 'NC_000012.11:g.40757328G>A', 'NC_000012.11:g.40713845G>A', 'NC_000001.10:g.155205634T>C', 'NC_000001.10:g.155205043A>C', 'NC_000001.10:g.155210420C>A', 'NC_000001.10:g.155210451_155210452insC']\n"
     ]
    }
   ],
   "source": [
    "POSs = []\n",
    "for ID in IDs:\n",
    "    response = requests.get('https://eutils.ncbi.nlm.nih.gov/entrez/eutils/efetch.fcgi?db=snp&id=' + ID + '&report=XML') \n",
    "    html_str = response.text \n",
    "    bs = BeautifulSoup(html_str, \"html5lib\") \n",
    "    POSs.append(bs.find(text = re.compile(ACVERS)))\n",
    "    time.sleep(1/3) # three requests per second (Guideline)\n",
    "print(POSs[:10])"
   ]
  },
  {
   "cell_type": "code",
   "execution_count": 9,
   "metadata": {},
   "outputs": [
    {
     "data": {
      "text/html": [
       "<div>\n",
       "<style scoped>\n",
       "    .dataframe tbody tr th:only-of-type {\n",
       "        vertical-align: middle;\n",
       "    }\n",
       "\n",
       "    .dataframe tbody tr th {\n",
       "        vertical-align: top;\n",
       "    }\n",
       "\n",
       "    .dataframe thead th {\n",
       "        text-align: right;\n",
       "    }\n",
       "</style>\n",
       "<table border=\"1\" class=\"dataframe\">\n",
       "  <thead>\n",
       "    <tr style=\"text-align: right;\">\n",
       "      <th></th>\n",
       "      <th>dbSNP</th>\n",
       "      <th>RefSeq_Accession_GRCh37</th>\n",
       "      <th>Chr</th>\n",
       "      <th>Loc</th>\n",
       "    </tr>\n",
       "  </thead>\n",
       "  <tbody>\n",
       "    <tr>\n",
       "      <th>0</th>\n",
       "      <td>rs34637584</td>\n",
       "      <td>NC_000012.11:g.40734202G&gt;A</td>\n",
       "      <td>12</td>\n",
       "      <td>40734202</td>\n",
       "    </tr>\n",
       "    <tr>\n",
       "      <th>1</th>\n",
       "      <td>rs33939927</td>\n",
       "      <td>NC_000012.11:g.40704236C&gt;A</td>\n",
       "      <td>12</td>\n",
       "      <td>40704236</td>\n",
       "    </tr>\n",
       "    <tr>\n",
       "      <th>2</th>\n",
       "      <td>rs33939927</td>\n",
       "      <td>NC_000012.11:g.40704236C&gt;A</td>\n",
       "      <td>12</td>\n",
       "      <td>40704236</td>\n",
       "    </tr>\n",
       "    <tr>\n",
       "      <th>3</th>\n",
       "      <td>rs35801418</td>\n",
       "      <td>NC_000012.11:g.40714916A&gt;G</td>\n",
       "      <td>12</td>\n",
       "      <td>40714916</td>\n",
       "    </tr>\n",
       "    <tr>\n",
       "      <th>4</th>\n",
       "      <td>rs34778348</td>\n",
       "      <td>NC_000012.11:g.40757328G&gt;A</td>\n",
       "      <td>12</td>\n",
       "      <td>40757328</td>\n",
       "    </tr>\n",
       "    <tr>\n",
       "      <th>5</th>\n",
       "      <td>rs33949390</td>\n",
       "      <td>NC_000012.11:g.40713845G&gt;A</td>\n",
       "      <td>12</td>\n",
       "      <td>40713845</td>\n",
       "    </tr>\n",
       "    <tr>\n",
       "      <th>6</th>\n",
       "      <td>rs76763715</td>\n",
       "      <td>NC_000001.10:g.155205634T&gt;C</td>\n",
       "      <td>01</td>\n",
       "      <td>155205634</td>\n",
       "    </tr>\n",
       "    <tr>\n",
       "      <th>7</th>\n",
       "      <td>rs35095275</td>\n",
       "      <td>NC_000001.10:g.155205043A&gt;C</td>\n",
       "      <td>01</td>\n",
       "      <td>155205043</td>\n",
       "    </tr>\n",
       "    <tr>\n",
       "      <th>8</th>\n",
       "      <td>rs104886460</td>\n",
       "      <td>NC_000001.10:g.155210420C&gt;A</td>\n",
       "      <td>01</td>\n",
       "      <td>155210420</td>\n",
       "    </tr>\n",
       "    <tr>\n",
       "      <th>9</th>\n",
       "      <td>rs387906315</td>\n",
       "      <td>NC_000001.10:g.155210451_155210452insC</td>\n",
       "      <td>01</td>\n",
       "      <td>155210451_155210452i</td>\n",
       "    </tr>\n",
       "  </tbody>\n",
       "</table>\n",
       "</div>"
      ],
      "text/plain": [
       "         dbSNP                 RefSeq_Accession_GRCh37 Chr  \\\n",
       "0   rs34637584              NC_000012.11:g.40734202G>A  12   \n",
       "1   rs33939927              NC_000012.11:g.40704236C>A  12   \n",
       "2   rs33939927              NC_000012.11:g.40704236C>A  12   \n",
       "3   rs35801418              NC_000012.11:g.40714916A>G  12   \n",
       "4   rs34778348              NC_000012.11:g.40757328G>A  12   \n",
       "5   rs33949390              NC_000012.11:g.40713845G>A  12   \n",
       "6   rs76763715             NC_000001.10:g.155205634T>C  01   \n",
       "7   rs35095275             NC_000001.10:g.155205043A>C  01   \n",
       "8  rs104886460             NC_000001.10:g.155210420C>A  01   \n",
       "9  rs387906315  NC_000001.10:g.155210451_155210452insC  01   \n",
       "\n",
       "                    Loc  \n",
       "0              40734202  \n",
       "1              40704236  \n",
       "2              40704236  \n",
       "3              40714916  \n",
       "4              40757328  \n",
       "5              40713845  \n",
       "6             155205634  \n",
       "7             155205043  \n",
       "8             155210420  \n",
       "9  155210451_155210452i  "
      ]
     },
     "execution_count": 9,
     "metadata": {},
     "output_type": "execute_result"
    }
   ],
   "source": [
    "rsIDs = [\"rs\" + ID for ID in IDs]\n",
    "CHRs = [POS[7:9] for POS in POSs]\n",
    "LOCs = [i[1+i.rfind(\".\"):-3] for i in POSs]\n",
    "RES = pd.DataFrame({\"dbSNP\": rsIDs,\n",
    "                   \"RefSeq_Accession_GRCh37\": POSs,\n",
    "                   \"Chr\": CHRs,\n",
    "                   \"Loc\": LOCs})\n",
    "RES[:10]"
   ]
  },
  {
   "cell_type": "code",
   "execution_count": 10,
   "metadata": {},
   "outputs": [],
   "source": [
    "RES.to_csv(\"S4SNP_POS.csv\", index = False)"
   ]
  }
 ],
 "metadata": {
  "kernelspec": {
   "display_name": "Python 3",
   "language": "python",
   "name": "python3"
  },
  "language_info": {
   "codemirror_mode": {
    "name": "ipython",
    "version": 3
   },
   "file_extension": ".py",
   "mimetype": "text/x-python",
   "name": "python",
   "nbconvert_exporter": "python",
   "pygments_lexer": "ipython3",
   "version": "3.6.5"
  }
 },
 "nbformat": 4,
 "nbformat_minor": 2
}
