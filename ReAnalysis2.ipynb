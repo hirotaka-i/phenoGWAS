{
 "cells": [
  {
   "cell_type": "raw",
   "metadata": {},
   "source": [
    "# GWAS analysis for PD progression\n",
    "\n",
    "Created 09/17/2018    \n",
    "By Hirotaka Iwaki\n",
    "\n",
    "\n",
    "### Predictors\n",
    "1. Imputed variants with rsq > 0.3, maf > 0.01. Use dosage. (NeuroX is not genome wide so use lower threshold.)\n",
    "2. Variants in interest including 92 risk variants in the most recent meta-analysis, \n",
    "3. Genetic risk score composed of 92 risk variants. (Last)\n",
    "\n",
    "### Outcomes\n",
    "\n",
    "1. Binomial Outcomes:    \n",
    "constipation(CONST), cognitive impairment (DEMENTIA), depressive mood (DEPR), dyskinesia (DYSKINESIAS), Hoehn Yahr Scale 3 or more (HY3), hyposmia (HYPOSMIA), insomnia (INS), motor fluctuations (MOTORFLUX), REM sleep behavior disorder (RBD), restless legs syndrome (RL), Modified Schwab and England Activities of Daily Living Scale 70 or less (SEADL70), daytime sleepiness (SLEEP)    \n",
    "\n",
    "\n",
    "2. Contious Outcomes:    \n",
    "Hoehn and Yahr scale (HY), MMSE, MoCA, SEADL, UPDRS_1/2/3/4/total    \n",
    "\n",
    "### Analysis\n",
    "For binomial outcomes;\n",
    "1. **(lgsbl)** logistic regression analysis at baseline: logitsic regression\n",
    "2. **(coxhm)** survival analysis for those who didn't have the symptom at the baseline: cox model with varying covariates.\n",
    "\n",
    "For continous outcomes;\n",
    "1. slope-analysis\n",
    "    * **(lnmxs)** Linear model with random intercept\n",
    "2. intercept analysis\n",
    "    * **(lnmxi)** linear model with random intercept for repaeated obs.    \n",
    "        (linear model for the cohort with single obs -> **lnsgl**)\n",
    "    \n",
    "### Covariates\n",
    "1. Sex (FEMALE)\n",
    "2. Years of Education (YEARSEDUC)\n",
    "3. Family History (FAMILY_HISTORY)\n",
    "4. Age at diagnosis (AAO)\n",
    "5. Years from diagnosis at baseline for cox model (BLDfDIAG) / Years from diagnosis for glmm model (YEARfDIAG)\n",
    "6. Treatment status (DOPA, AGNOIST)\n",
    "7. Population structure (PC1-5)\n",
    "\n",
    "### Meta-analysis\n",
    "Fixed model"
   ]
  },
  {
   "cell_type": "code",
   "execution_count": 71,
   "metadata": {},
   "outputs": [],
   "source": [
    "%%bash\n",
    "# Predictors (Variants in interest)\n",
    "cat predictor/_pos*.txt | LANG=C sort | uniq |sed '1 iPOS' > predictor/select.txt\n",
    "awk -F' ' '/rs/{print $1,$2,$3}' predictor/_snp* | LANG=C sort | sed '1 iPOS ID NearGenpoe' |\\\n",
    "    sed 's/ /\\t/g' | uniq -w 15 > predictor/snpInfo.txt\n",
    "awk -F' ' '{print $1,toupper($4),$7}' predictor/Meta5.tab | sed 's/ /\\t/g' | sed 's/chr//g' > predictor/grs.txt"
   ]
  },
  {
   "cell_type": "code",
   "execution_count": 27,
   "metadata": {},
   "outputs": [
    {
     "name": "stdout",
     "output_type": "stream",
     "text": [
      "##fileformat=VCFv4.1\n",
      "##filedate=2018.5.22\n",
      "##source=Minimac3\n",
      "##contig=<ID=22>\n",
      "##FILTER=<ID=GENOTYPED,Description=\"Marker was genotyped AND imputed\">\n",
      "##FILTER=<ID=GENOTYPED_ONLY,Description=\"Marker was genotyped but NOT imputed\">\n",
      "##FORMAT=<ID=GT,Number=1,Type=String,Description=\"Genotype\">\n",
      "##FORMAT=<ID=DS,Number=1,Type=Float,Description=\"Estimated Alternate Allele Dosage : [P(0/1)+2*P(1/1)]\">\n",
      "##FORMAT=<ID=GP,Number=3,Type=Float,Description=\"Estimated Posterior Probabilities for Genotypes 0/0, 0/1 and 1/1 \">\n",
      "##INFO=<ID=AF,Number=1,Type=Float,Description=\"Estimated Alternate Allele Frequency\">\n",
      "##INFO=<ID=MAF,Number=1,Type=Float,Description=\"Estimated Minor Allele Frequency\">\n",
      "##INFO=<ID=R2,Number=1,Type=Float,Description=\"Estimated Imputation Accuracy\">\n",
      "##INFO=<ID=ER2,Number=1,Type=Float,Description=\"Empirical (Leave-One-Out) R-square (available only for genotyped variants)\">\n",
      "#CHROM\tPOS\tID\tREF\tALT\n",
      "22\t16050435\t22:16050435\tT\tC\n",
      "22\t16050783\t22:16050783\tA\tG\n",
      "22\t16050822\t22:16050822\tG\tA\n",
      "22\t16050922\t22:16050922\tT\tG\n",
      "22\t16050984\t22:16050984\tC\tG\n",
      "22\t16051099\t22:16051099\tG\tT\n"
     ]
    },
    {
     "name": "stderr",
     "output_type": "stream",
     "text": [
      "[+] Loading samtools 1.9  ... \n",
      "[+] Loading vcftools  0.1.15 \n",
      "Leading or trailing space in attr_key-attr_value pairs is discouraged:\n",
      "\t[Description] [Estimated Posterior Probabilities for Genotypes 0/0, 0/1 and 1/1 ]\n",
      "\tFORMAT=<ID=GP,Number=3,Type=Float,Description=\"Estimated Posterior Probabilities for Genotypes 0/0, 0/1 and 1/1 \">\n"
     ]
    }
   ],
   "source": [
    "%%bash\n",
    "# create the data with individual (row) /snps (column) for selected SNPs in interst (R>0.3, maf>0.01)\n",
    "# Bring already created file (maf01rsq3)\n",
    "zless /data/LNG/CORNELIS_TEMP/progression_GWAS/PARKWEST/chr22.dose.vcf.gz | head -n 20| cut -f1-5\n",
    "module load vcftools\n",
    "zcat /data/LNG/CORNELIS_TEMP/progression_GWAS/PARKWEST/chr22.dose.vcf.gz | vcf-to-tab  >out.tab"
   ]
  },
  {
   "cell_type": "code",
   "execution_count": 25,
   "metadata": {},
   "outputs": [
    {
     "ename": "SyntaxError",
     "evalue": "invalid syntax (<ipython-input-25-ced9d2bddc60>, line 1)",
     "output_type": "error",
     "traceback": [
      "\u001b[0;36m  File \u001b[0;32m\"<ipython-input-25-ced9d2bddc60>\"\u001b[0;36m, line \u001b[0;32m1\u001b[0m\n\u001b[0;31m    head out.tab\u001b[0m\n\u001b[0m           ^\u001b[0m\n\u001b[0;31mSyntaxError\u001b[0m\u001b[0;31m:\u001b[0m invalid syntax\n"
     ]
    }
   ],
   "source": [
    "head out.tab"
   ]
  },
  {
   "cell_type": "code",
   "execution_count": 36,
   "metadata": {},
   "outputs": [],
   "source": [
    "%%bash\n",
    "# Create Phenotype files\n",
    "\n",
    "FOLDER=pheno\n",
    "mkdir -p $FOLDER\n",
    "cd $FOLDER\n",
    "for DATASET in $(ls ../../dataset/);do\n",
    "#     mkdir -p $DATASET\n",
    "#     cd $DATASET\n",
    "    mkdir -p lgsbl\n",
    "    mkdir -p coxhm\n",
    "    mkdir -p lnmxs\n",
    "    mkdir -p lncns\n",
    "    mkdir -p lnmxi\n",
    "    mkdir -p lnsgl\n",
    "done\n",
    "\n",
    "\n",
    "# 1    Need to match phenotype ID and IID.\n",
    "# 1.1    Extract IID from imputed file\n",
    "rm t/_IDlist_imputed.txt\n",
    "for DATASET in $(ls ../dataset);do\n",
    "  cat /data/LNG/CORNELIS_TEMP/progression_GWAS/$DATASET/plink_files_hard/*.fam | sed \"s/^/$DATASET:/g\" | cut -f1 | cut -d \" \" -f1 | sed 's/:/'$'\\t/g' >> t/_IDlist_imputed.txt\n",
    "done\n",
    "# 1.2    Creating HBS ID matching file. (No formal table so compare genotyping file)\n",
    "module load plink\n",
    "GNTYP_IN=/data/LNG/CORNELIS_TEMP/progression_GWAS/\n",
    "plink --bfile data/HBS_original/pruned --bmerge $GNTYP_IN/pre_impute_data/HBS --make-bed --out t/V1\n",
    "plink --bfile data/HBS_original/pruned --exclude t/V1-merge.missnp --make-bed --out t/V2\n",
    "plink --bfile t/V2 --bmerge $GNTYP_IN/pre_impute_data/HBS --make-bed --out t/V3\n",
    "plink --bfile t/V3 --genome --min 0.7 --out t/V4\n",
    "mv t/V4.genome data/HBSIDmatch.txt"
   ]
  },
  {
   "cell_type": "code",
   "execution_count": 1,
   "metadata": {},
   "outputs": [
    {
     "name": "stdout",
     "output_type": "stream",
     "text": [
      "find IID without ID. No output is good \n",
      "# A tibble: 0 x 4\n",
      "# Groups:   DATASET, IID [0]\n",
      "# ... with 4 variables: DATASET <chr>, IID <chr>, ID <chr>, COHORT <chr>\n",
      "complete step1 \n",
      "compete step2 \n",
      "CORIELL    lgsbl    NO_lnsgl    lnmxi/lnmxs    lncns    coxhm \n",
      "DATATOP    lgsbl    NO_lnsgl    lnmxi/lnmxs    lncns    coxhm \n",
      "DIGPD_chip    lgsbl    NO_lnsgl    lnmxi/lnmxs    lncns    coxhm \n",
      "DIGPD_neuroX    lgsbl    NO_lnsgl    lnmxi/lnmxs    lncns    coxhm \n",
      "HBS    lgsbl    NO_lnsgl    lnmxi/lnmxs    lncns    coxhm \n",
      "OSLO    lgsbl    NO_lnsgl    lnmxi/lnmxs    lncns    coxhm \n",
      "PARKFIT    lgsbl    lnsgl    lnmxi/lnmxs    lncns    coxhm \n",
      "PARKWEST    lgsbl    NO_lnsgl    lnmxi/lnmxs    lncns    coxhm \n",
      "PDBP    lgsbl    NO_lnsgl    lnmxi/lnmxs    lncns    coxhm \n",
      "PICNICS    lgsbl    NO_lnsgl    lnmxi/lnmxs    lncns    coxhm \n",
      "PPMI    lgsbl    NO_lnsgl    lnmxi/lnmxs    lncns    coxhm \n",
      "PRECEPT    lgsbl    NO_lnsgl    lnmxi/lnmxs    lncns    coxhm \n",
      "SCOPA    lgsbl    NO_lnsgl    lnmxi/lnmxs    lncns    coxhm \n",
      "all complete \n"
     ]
    },
    {
     "name": "stderr",
     "output_type": "stream",
     "text": [
      "[-] Unloading gcc  7.2.0  ... \n",
      "[-] Unloading GSL 2.4 for GCC 7.2.0 ... \n",
      "[-] Unloading openmpi 3.0.0  for GCC 7.2.0 \n",
      "[-] Unloading R 3.5.0_build2 \n",
      "[+] Loading gcc  7.2.0  ... \n",
      "[+] Loading GSL 2.4 for GCC 7.2.0 ... \n",
      "[+] Loading openmpi 3.0.0  for GCC 7.2.0 \n",
      "[+] Loading R 3.5.0_build2 \n",
      "Loading required package: dplyr\n",
      "\n",
      "Attaching package: 'dplyr'\n",
      "\n",
      "The following objects are masked from 'package:stats':\n",
      "\n",
      "    filter, lag\n",
      "\n",
      "The following objects are masked from 'package:base':\n",
      "\n",
      "    intersect, setdiff, setequal, union\n",
      "\n",
      "Loading required package: data.table\n",
      "\n",
      "Attaching package: 'data.table'\n",
      "\n",
      "The following objects are masked from 'package:dplyr':\n",
      "\n",
      "    between, first, last\n",
      "\n",
      "Loading required package: zoo\n",
      "\n",
      "Attaching package: 'zoo'\n",
      "\n",
      "The following objects are masked from 'package:base':\n",
      "\n",
      "    as.Date, as.Date.numeric\n",
      "\n"
     ]
    }
   ],
   "source": [
    "%%bash\n",
    "# 1.3    \n",
    "module load R\n",
    "Rscript --vanilla CreatePhenoFile.R"
   ]
  },
  {
   "cell_type": "code",
   "execution_count": 4,
   "metadata": {},
   "outputs": [],
   "source": [
    "%%bash\n",
    "# Create output folders\n",
    "for FOLDER in output outGWAS outGRS;do\n",
    "    mkdir -p $FOLDER\n",
    "    cd $FOLDER\n",
    "    for DATASET in $(ls ../../dataset/);do\n",
    "        mkdir -p $DATASET\n",
    "        cd $DATASET\n",
    "        mkdir -p lgsbl\n",
    "        mkdir -p coxhm\n",
    "        mkdir -p lnmxs\n",
    "        mkdir -p lncns\n",
    "        mkdir -p lnmxi\n",
    "        mkdir -p lnsgl\n",
    "        cd ..\n",
    "    done\n",
    "    cd ..\n",
    "done"
   ]
  },
  {
   "cell_type": "code",
   "execution_count": 46,
   "metadata": {},
   "outputs": [
    {
     "name": "stdout",
     "output_type": "stream",
     "text": [
      "swarm -f t/swarm_rvtest.txt --time=6:00:00 -p 2 -b 4 --logdir t/swarm_rvtest --module rvtests --devel\n",
      "swarm -f t/swarm_rvtest_after.txt --time=0:10:00 -p 2 -b 16 --logdir t/swarm_rvtest --partition=quick --devel\n",
      "job1=$(swarm -f t/swarm_rvtest.txt --time=6:00:00 -p 2 -b 4 --logdir t/swarm_rvtest --module rvtests)\n",
      "swarm -f t/swarm_rvtest_after.txt --time=0:10:00 -p 2 -b 16 --logdir t/swarm_rvtest --partition=quick --dependency=afterany:$job1\n"
     ]
    }
   ],
   "source": [
    "%%bash\n",
    "# RVTESTS for logistic regression an linear regression at baseline\n",
    "rm -f t/swarm_rvtest*\n",
    "GNTYP_IN=\"/data/LNG/CORNELIS_TEMP/progression_GWAS\"\n",
    "for MODEL in \"lgsbl\" \"lnsgl\";do\n",
    "    for i in $(grep $MODEL models.txt);do \n",
    "        DATASET=$(echo $i | cut -d \";\" -f2)\n",
    "        OUTCOME=$(echo $i | cut -d \";\" -f3)\n",
    "        COVS=$(echo $i | cut -d \";\" -f4)\n",
    "        mkdir -p outGWAS/$DATASET/$MODEL/$OUTCOME\n",
    "        for CHNUM in {1..22};do\n",
    "            echo \"\n",
    "rvtest --noweb --hide-covar --rangeFile ../dataset/$DATASET/maf01rsq3.info \\\n",
    "    --inVcf $GNTYP_IN/$DATASET/chr$CHNUM.dose.vcf.gz \\\n",
    "    --pheno pheno/$MODEL/$DATASET.txt --pheno-name $OUTCOME \\\n",
    "    --covar pheno/$MODEL/\"$DATASET\"_cov.txt --covar-name \"$COVS\",PC1,PC2,PC3,PC4,PC5 \\\n",
    "    --out outGWAS/$DATASET/$MODEL/$OUTCOME/chr$CHNUM --single wald; \\\n",
    "echo \\\"$CHNUM;$i\\\" >>t/swarm_rvtest_log.txt\" >> t/swarm_rvtest.txt\n",
    "        done\n",
    "        echo \"\n",
    "cat outGWAS/$DATASET/$MODEL/$OUTCOME/chr*.SingleWald.assoc | awk '{print \\$1\\\":\\\"\\$2,\\$4,\\$3,\\$7,\\$8,\\$9}'|\\\n",
    " grep -v ^CHROM | LANG=C sort | sed '1 iPOS A1 A2 BETA SE P' | sed 's/ /\\t/g' |\\\n",
    " join --header  -t\\$'\\t' - ../dataset/$DATASET/maf01rsq3_sorted.txt | cut -f 1-6,9,10\\\n",
    " > outGWAS/$DATASET/$MODEL/$OUTCOME/all.tab\" >> t/swarm_rvtest_after.txt\n",
    "    done\n",
    "done\n",
    "echo \"swarm -f t/swarm_rvtest.txt --time=6:00:00 -p 2 -b 4 --logdir t/swarm_rvtest --module rvtests --devel\"\n",
    "echo \"swarm -f t/swarm_rvtest_after.txt --time=0:10:00 -p 2 -b 16 --logdir t/swarm_rvtest --partition=quick --devel\"\n",
    "echo \"job1=\\$(swarm -f t/swarm_rvtest.txt --time=6:00:00 -p 2 -b 4 --logdir t/swarm_rvtest --module rvtests)\"\n",
    "echo \"swarm -f t/swarm_rvtest_after.txt --time=0:10:00 -p 2 -b 16 --logdir t/swarm_rvtest --partition=quick --dependency=afterany:\\$job1\""
   ]
  },
  {
   "cell_type": "code",
   "execution_count": 47,
   "metadata": {},
   "outputs": [
    {
     "name": "stdout",
     "output_type": "stream",
     "text": [
      "9664803\n",
      "9664799\n"
     ]
    }
   ],
   "source": [
    "%%bash\n",
    "# job1=$(swarm -f t/swarm_rvtest.txt --time=6:00:00 -p 2 -b 4 --logdir t/swarm_rvtest --module rvtests)\n",
    "# swarm -f t/swarm_rvtest_after.txt --time=0:10:00 -p 2 -b 16 --logdir t/swarm_rvtest --partition=quick --dependency=afterany:$job1\n",
    "# echo $job1"
   ]
  },
  {
   "cell_type": "code",
   "execution_count": null,
   "metadata": {},
   "outputs": [],
   "source": [
    "%%bash\n",
    "# For genetic risk score, use R for the analysis. \n",
    "echo '\n",
    "library(dplyr);library(data.table)\n",
    "DATASETs=list.files(\"../dataset/\")\n",
    "DATASET=DATASETs[1]\n",
    "SCOREs=list.files(paste(\"../dataset\", DATASET, \"grs\", sep=\"/\"),)\n",
    "'"
   ]
  },
  {
   "cell_type": "code",
   "execution_count": 2,
   "metadata": {},
   "outputs": [],
   "source": [
    "%%bash \n",
    "# Cohort level longitudinal analysis with R (coxhm, lnmxs and lnmxi)\n",
    "\n",
    "## coxhm \n",
    "# args=c(\"coxhm;CORIELL;DEMENTIA;FEMALE,YEARSEDUC,FAMILY_HISTORY,AAO,BLDfDIAG,DOPA,AGONIST\", \"../dataset/CORIELL/maf01rsq3_20Kcut/cut22.2.txt.gz\", \"outGWAS\")\n",
    "echo '\n",
    "args <- commandArgs(trailingOnly = TRUE)\n",
    "# Variables\n",
    "KEY=strsplit(args[1], \";\")[[1]]\n",
    "ANALYSIS=KEY[1]\n",
    "DATASET=KEY[2]\n",
    "OUTCOME=KEY[3]\n",
    "COVs   =KEY[4]\n",
    "COVPC  =paste(gsub(\",\", \"+\", COVs), \"+PC1+PC2+PC3+PC4+PC5\", sep=\"\")\n",
    "INFILE  = paste(\"gzcat -f\", args[2], sep=\" \")\n",
    "OUT = args[3]\n",
    "library(data.table);library(dplyr)\n",
    "## Read genptypes\n",
    "SNPset = fread(INFILE)\n",
    "SNPs = names(SNPset)[-c(1:2)] # 1 IID, DOSE SNP name starts from col 3\n",
    "# Read phenotypes\n",
    "cohort=fread(paste(\"pheno/\", ANALYSIS, \"/\", OUTCOME, \"_\", DATASET, \".txt\", sep = \"\")) %>% arrange(IID, TSTART) %>%\n",
    "  select(c(\"IID\", \"TSTART\", \"TSTOP\", OUTCOME, strsplit(COVPC, \"\\\\+\")[[1]])) %>% filter(complete.cases(.))\n",
    "# rescaling\n",
    "cohort[,(strsplit(COVPC, \"\\\\+\")[[1]])] = as.data.frame(scale(cohort[,(strsplit(COVPC, \"\\\\+\")[[1]])]))\n",
    "## Merge data\n",
    "cohort_snp = left_join(cohort, SNPset, by = \"IID\")\n",
    "# ANALYSIS\n",
    "library(survival)\n",
    "cohort_snp$SurvObj1 = with(cohort_snp, Surv(TSTART, TSTOP, OUTCOME == 1))\n",
    "test.listfunc = function(x){\n",
    "  MODEL = paste(\"SurvObj1 ~\", \"`\", SNPs[x], \"`+\", COVPC, sep = \"\")\n",
    "  testCox = try(coxph(eval(parse(text = MODEL)), data = cohort_snp),silent = T)\n",
    "  if(class(testCox)[1]==\"try-error\"){\n",
    "    sumstat=c(SNPs[x], \"NoConverge\", rep(NA,4))\n",
    "  }else{\n",
    "    temp= summary(testCox)$coefficients\n",
    "    if(grep(substr(SNPs[x],1,7), rownames(temp)) %>% length == 0){ # In this case, SNP is dropeed from the model\n",
    "      sumstat=c(SNPs[x], \"NoVforSNP\", rep(NA, 4))\n",
    "    }else{\n",
    "      RES = temp[1,]\n",
    "      EVENT_OBS = paste(testCox$nevent, testCox$n, sep=\"_\")\n",
    "      sumstat <- c(SNPs[x], EVENT_OBS, as.numeric(RES[4]), RES[1], RES[3], RES[5])\n",
    "    }\n",
    "  }\n",
    "  return(sumstat)\n",
    "}\n",
    "temp = lapply(1:length(SNPs), test.listfunc)\n",
    "temp2 = do.call(rbind, temp) %>% data.frame%>%filter(complete.cases(.))\n",
    "names(temp2)=c(\"POS_A2_A1\", \"EVENT_OBS\", \"Tvalue\", \"BETA\", \"SE\", \"P\")\n",
    "NEWDIR = paste(OUT, DATASET, ANALYSIS, OUTCOME, sep = \"/\")\n",
    "dir.create(NEWDIR, recursive = T, showWarnings = F)\n",
    "FILENAME = strsplit(INFILE, \"/\")[[1]][5] %>% substr(.,1,nchar(.)-3) %>% sub(\"\\\\.\", \"_\", .) # cut22_2.txt\n",
    "write.table(temp2, paste(NEWDIR, FILENAME, sep=\"/\"), row.names = F, quote = F, sep = \"\\t\")\n",
    "line=paste(\"Rscript --vanilla t/\", ANALYSIS, \".R \", paste(args, collapse = \" \"), sep=\"\")\n",
    "write(line,file=paste(\"finish_GWAS_\", ANALYSIS, \".txt\", sep=\"\"),append=TRUE)\n",
    "' > t/coxhm.R\n",
    "\n",
    "# lnmxi\n",
    "# args=c(\"lnmxi;CORIELL;SEADL;FEMALE,YEARSEDUC,FAMILY_HISTORY,AAO,YEARfDIAG,DOPA,AGONIST\", \"../dataset/CORIELL/maf01rsq3_20Kcut/cut22.2.txt.gz\", \"outGWAS\")\n",
    "echo '\n",
    "# Read phenotype\n",
    "library(lme4)\n",
    "cohort=fread(paste(\"pheno/\", ANALYSIS, \"/\", DATASET, \".txt\", sep = \"\")) %>% arrange(IID, YEARfDIAG) %>% \n",
    "  select(c(\"IID\", OUTCOME, strsplit(COVPC, \"\\\\+\")[[1]])) %>% filter(complete.cases(.))\n",
    "# rescaling\n",
    "cohort[,(strsplit(COVPC, \"\\\\+\")[[1]])] = as.data.frame(scale(cohort[,(strsplit(COVPC, \"\\\\+\")[[1]])]))\n",
    "# Merge data\n",
    "cohort_snp = left_join(cohort, SNPset, by = \"IID\")\n",
    "# ANALYSIS\n",
    "test.listfunc = function(x){\n",
    "  # Models\n",
    "  MODEL = paste(OUTCOME, \"~\", \"`\", SNPs[x], \"`+\", paste(COVPC, collapse=\"+\"), \"+(1|IID)\", sep = \"\")\n",
    "  testLmer = try(lmer(eval(parse(text = MODEL)), data = cohort_snp),silent = T)\n",
    "  if(class(testLmer)[1]==\"try-error\"){\n",
    "    sumstat=c(SNPs[x], \"NoConverge\", rep(NA,4))\n",
    "  }else{\n",
    "    temp = summary(testLmer)\n",
    "    temp1 = temp$coefficients\n",
    "    if(grep(substr(SNPs[x],1,7), rownames(temp1)) %>% length == 0){ # In this case, SNP is dropeed from the model\n",
    "      sumstat=c(SNPs[x], \"Dropped\", rep(NA,4))\n",
    "    }else{\n",
    "      RES = temp1[2,] # The first row is intercept\n",
    "      PV_APPROX = 2 * pnorm(-abs(RES[3])) # df is enough large for approximation\n",
    "      OBS_N = paste(length(temp$residuals), \"_\", temp$ngrps, sep=\"\")\n",
    "      sumstat <- c(SNPs[x], OBS_N, RES[3], RES[1], RES[2], PV_APPROX)\n",
    "    }\n",
    "  }\n",
    "  return(sumstat)\n",
    "}' > t/model_body.txt\n",
    "sed -n 1,15p t/coxhm.R > t/model_head.txt\n",
    "sed -n 43,49p t/coxhm.R > t/model_tail.txt\n",
    "cat t/model_head.txt t/model_body.txt t/model_tail.txt > t/lnmxi.R\n",
    "\n",
    "# lnmxs  \n",
    "#fixed slope model. (Randome slope cannnot be estimated in some cohorts)\n",
    "# args=c(\"lnmxs;CORIELL;UPDRS4_scaled;FEMALE,YEARSEDUC,FAMILY_HISTORY,AAO,YEARfDIAG,DOPA,AGONIST\", \"../dataset/CORIELL/maf01rsq3_20Kcut/cut22.2.txt.gz\", \"outGWAS\")\n",
    "echo '\n",
    "test.listfunc = function(x){\n",
    "  # Models\n",
    "  MODEL = paste(OUTCOME, \"~\", \"`\", SNPs[x], \"`+ `\", SNPs[x], \"`*YEARfDIAG + \", paste(COVPC, collapse=\"+\"), \"+(1|IID)\", sep = \"\")\n",
    "  testLmer = try(lmer(eval(parse(text = MODEL)), data = cohort_snp),silent = T)\n",
    "  if(class(testLmer)[1]==\"try-error\"){\n",
    "    sumstat=NA\n",
    "  }else{\n",
    "    temp = summary(testLmer)\n",
    "    temp1 = temp$coefficients %>% data.frame\n",
    "    names(temp1)=c(\"BETA\", \"SE\", \"Tvalue\")\n",
    "    sumstat=temp1[grep(substr(SNPs[x],1,7), rownames(temp1)),]\n",
    "    if(nrow(sumstat)==0){\n",
    "      sumstat=NA\n",
    "    }else{\n",
    "        sumstat$POS_A2_A1=rownames(sumstat)\n",
    "        sumstat = sumstat %>% \n",
    "        mutate(P= 2 * pnorm(-abs(Tvalue)), \n",
    "            OBS_N=paste(length(temp$residuals), \"_\", temp$ngrps, sep=\"\"),\n",
    "            POS_A2_A1=gsub(\"`\", \"\", POS_A2_A1)) %>% \n",
    "        select(\"POS_A2_A1\", \"OBS_N\", \"Tvalue\", \"BETA\", \"SE\", \"P\")\n",
    "    }\n",
    "  }\n",
    "  return(sumstat)\n",
    "}\n",
    "temp = lapply(1:length(SNPs), test.listfunc)\n",
    "temp2 = do.call(rbind, temp) %>% data.frame %>% filter(complete.cases(.))\n",
    "NEWDIR = paste(OUT, DATASET, ANALYSIS, OUTCOME, sep = \"/\")\n",
    "NEWDIR2 = paste(OUT, DATASET, paste(ANALYSIS, \"intcp\", sep = \"_\"), OUTCOME, sep = \"/\")\n",
    "dir.create(NEWDIR, recursive = T, showWarnings = F)\n",
    "dir.create(NEWDIR2, recursive = T, showWarnings = F)\n",
    "FILENAME = strsplit(INFILE, \"/\")[[1]][5] %>% substr(.,1,nchar(.)-3) %>% sub(\"\\\\.\", \"_\", .) # cut22_2.txt\n",
    "temp2 %>% filter(grepl(\":YEARfDIAG\", POS_A2_A1)) %>% \n",
    "  mutate(POS_A2_A1=sub(\":YEARfDIAG\", \"\", POS_A2_A1)) %>%\n",
    "  write.table(., paste(NEWDIR, FILENAME, sep=\"/\"), row.names = F, quote = F, sep = \"\\t\")\n",
    "temp2 %>% filter(!grepl(\":YEARfDIAG\", POS_A2_A1)) %>% \n",
    "  write.table(., paste(NEWDIR2, FILENAME, sep=\"/\"), row.names = F, quote = F, sep = \"\\t\")\n",
    "line=paste(\"Rscript --vanilla t/\", ANALYSIS, \".R \", paste(args, collapse = \" \"), sep=\"\")\n",
    "write(line,file=paste(\"finish_GWAS_\", ANALYSIS, \".txt\", sep=\"\"),append=TRUE)\n",
    "' > t/model_body.txt\n",
    "sed -n 1,25p t/lnmxi.R > t/model_head.txt\n",
    "cat t/model_head.txt t/model_body.txt > t/lnmxs.R"
   ]
  },
  {
   "cell_type": "code",
   "execution_count": 12,
   "metadata": {},
   "outputs": [
    {
     "name": "stdout",
     "output_type": "stream",
     "text": [
      "\n",
      "swarm -f swarm/GWAS_cohort_level_coxhm.txt --time=0:30:00 -g 2 -p 2 -b 18 --logdir swarm/t --module R --devel\n",
      "swarm -f swarm/GWAS_cohort_level_lnmxi.txt --time=2:00:00 -g 2 -p2 -b 12 --logdir swarm/t --module R --devel\n",
      "swarm -f swarm/GWAS_cohort_level_lnmxs.txt --time=2:00:00 -g 2 -p2 -b 12 --logdir swarm/t --module R --devel\n"
     ]
    }
   ],
   "source": [
    "%%bash\n",
    "# Create swarm for R analyses\n",
    "rm -f swarm/GWAS_cohort_level_*.txt \n",
    "for i in $(tail -n +2 models.txt);do\n",
    "    MODEL=$(echo $i | cut -d\";\" -f1)\n",
    "    DATASET=$(echo $i | cut -d\";\" -f2)\n",
    "    for INFILE in $(ls ../dataset/$DATASET/maf01rsq3_20Kcut/*);do\n",
    "        echo \"Rscript --vanilla t/$MODEL.R \\\"$i\\\" \\\"$INFILE\\\" \\\"outGWAS\\\"\" >> swarm/GWAS_cohort_level_\"$MODEL\".txt \n",
    "    done\n",
    "done\n",
    "echo \"\n",
    "swarm -f swarm/GWAS_cohort_level_coxhm.txt --time=0:30:00 -g 2 -p 2 -b 18 --logdir swarm/t --module R --devel\n",
    "swarm -f swarm/GWAS_cohort_level_lnmxi.txt --time=2:00:00 -g 2 -p2 -b 12 --logdir swarm/t --module R --devel\n",
    "swarm -f swarm/GWAS_cohort_level_lnmxs.txt --time=2:00:00 -g 2 -p2 -b 12 --logdir swarm/t --module R --devel\"\n",
    "rm swarm/GWAS_cohort_level_lgsbl.txt swarm/GWAS_cohort_level_lnsgl.txt swarm/GWAS_cohort_level_lncns.txt # no analysis for those."
   ]
  },
  {
   "cell_type": "code",
   "execution_count": 13,
   "metadata": {},
   "outputs": [],
   "source": [
    "%%bash\n",
    "rm -rf outGWAS/*/lnmxs*"
   ]
  },
  {
   "cell_type": "code",
   "execution_count": 48,
   "metadata": {},
   "outputs": [
    {
     "name": "stdout",
     "output_type": "stream",
     "text": [
      "Loading modules R\n",
      "15931 commands run in 399 subjobs, each command requiring 2 gb and 1 thread, packing 2 processes per subjob, running 20 processes serially per subjob\n",
      "sbatch --array=0-398 --job-name=swarm --output=/dev/null --error=/dev/null --cpus-per-task=2 --mem=4096 --partition=norm --time=10:00:00 /spin1/swarm/iwakih2/uNrC9DyyUu/swarm.batch\n",
      "Loading modules R\n",
      "18540 commands run in 976 subjobs, each command requiring 2 gb and 1 thread, running 19 processes serially per subjob\n",
      "sbatch --array=0-975 --job-name=swarm --output=swarm/t/swarm_%A_%a.o --error=swarm/t/swarm_%A_%a.e --cpus-per-task=1 --mem=2048 --partition=norm --time=1-14:00:00 /spin1/swarm/iwakih2/XecwudalC9/swarm.batch\n"
     ]
    }
   ],
   "source": [
    "%%bash\n",
    "swarm -f swarm/GWAS_cohort_level_coxhm.txt --time=0:30:00 -g 2 -p 2 -b 20 --logdir swarm/t --module R --devel\n",
    "swarm -f swarm/GWAS_cohort_level_lnmxs.txt --time=2:00:00 -g 2 -b 19 --logdir swarm/t --module R --devel"
   ]
  },
  {
   "cell_type": "code",
   "execution_count": 3,
   "metadata": {},
   "outputs": [
    {
     "name": "stdout",
     "output_type": "stream",
     "text": [
      "Loading modules R\n",
      "18539 commands run in 927 subjobs, each command requiring 2 gb and 1 thread, packing 2 processes per subjob, running 10 processes serially per subjob\n",
      "sbatch --array=0-926 --job-name=swarm --output=/dev/null --error=/dev/null --cpus-per-task=2 --mem=4096 --partition=norm --time=1-01:00:00 /spin1/swarm/iwakih2/0E4UtrVDYb/swarm.batch\n"
     ]
    }
   ],
   "source": [
    "%%bash\n",
    "# sort -R swarm/GWAS_cohort_level_coxhm.txt > swarm/rGWAS_cohort_level_coxhm.txt\n",
    "# swarm -f swarm/rGWAS_cohort_level_coxhm.txt --time=0:60:00 -g 2 -p 2 -b 20 --logdir swarm/t --module R --devel # 30min -> 60min 9717371\n",
    "sort -R swarm/GWAS_cohort_level_lnmxs.txt > swarm/rGWAS_cohort_level_lnmxs.txt\n",
    "swarm -f swarm/rGWAS_cohort_level_lnmxs.txt --time=2:30:00 -g 2 -p 2 -b 10 --logdir swarm/t --module R --devel "
   ]
  },
  {
   "cell_type": "code",
   "execution_count": 1,
   "metadata": {},
   "outputs": [
    {
     "name": "stdout",
     "output_type": "stream",
     "text": [
      "Loading modules R\n",
      "12 commands run in 1 subjob, each command requiring 2 gb and 1 thread, packing 2 processes per subjob, running 10 processes serially per subjob\n",
      "sbatch --array=0-0 --job-name=swarm --output=/dev/null --error=/dev/null --cpus-per-task=2 --mem=4096 --partition=norm --time=15:00:00 /spin1/swarm/iwakih2/AARTuIfMjs/swarm.batch\n"
     ]
    }
   ],
   "source": [
    "%%bash\n",
    "sed -e 's/ /\" \"/g' -e 's/S$/S\"/' -e 's/t\" \"--vanilla\" \"t\\/lnmxs.R\"/t --vanilla t\\/lnmxs.R/' finish_GWAS_lnmxs.txt > finish_GWAS_lnmxs2.txt\n",
    "cat finish_GWAS_lnmxs2.txt swarm/GWAS_cohort_level_lnmxs.txt | sort | uniq -u | sort -R > finishNOT_GWAS_lnmxs.txt\n",
    "swarm -f finishNOT_GWAS_lnmxs.txt --time=2:30:00 -g 2 -p 2 -b 10 --logdir swarm/t --module R --devel"
   ]
  },
  {
   "cell_type": "code",
   "execution_count": 9,
   "metadata": {},
   "outputs": [
    {
     "name": "stdout",
     "output_type": "stream",
     "text": [
      "221 commands run in 3 subjobs, each command requiring 2 gb and 1 thread, running 82 processes serially per subjob\n",
      "sbatch --array=0-2 --job-name=swarm --output=swarm/t/swarm_%A_%a.o --error=swarm/t/swarm_%A_%a.e --cpus-per-task=1 --mem=2048 --partition=quick --time=01:22:00 /spin1/swarm/iwakih2/EW13narttK/swarm.batch\n"
     ]
    }
   ],
   "source": [
    "%%bash\n",
    "# populate all the R results into one file (all.tab) Time consuming process. Filter abs(beta) < 10\n",
    "# Join ALT_Frq and Rsq file. But because cut*.txt.gz includes multiple allele for filtered positions, remove A1 is not the one with MAF>0.01\n",
    "rm -f swarm/populate*.txt\n",
    "for RESULT in \"outGWAS\";do  \n",
    "    for MODEL in coxhm lnmxi lnmxs;do\n",
    "        for i in $(grep ^\"$MODEL\" models.txt);do\n",
    "            DATASET=$(echo $i | cut -d\";\" -f2)\n",
    "            OUTCOME=$(echo $i | cut -d\";\" -f3)\n",
    "            if [[ \"$OUTCOME\" =~ ^(MMSE|MOCA|SEADL)$ ]]; then\n",
    "                B_THRES=10\n",
    "            else\n",
    "                B_THRES=5\n",
    "            fi\n",
    "            echo \"\n",
    "cat $RESULT/$DATASET/$MODEL/$OUTCOME/*.txt | sed 's/_/\\t/g' | cut -f 1-3,7-9 |\\\n",
    " awk 'BEGIN{OFS=\\\"\\t\\\"}{print \\$1,\\$3,\\$2,\\$4,\\$5,\\$6}' | awk 'NR==1{print;next} -$B_THRES < \\$4 && \\$4 < $B_THRES{print|\\\"LANG=C sort\\\"}' |\\\n",
    " LANG=C join -t$'\\t' --header - ../dataset/$DATASET/maf01rsq3_sorted.txt|\\\n",
    " awk 'NR==1{print;next}\\$2==\\$8{print}' | cut -f 1-6,9-10 > $RESULT/$DATASET/$MODEL/$OUTCOME/all.tab\" \\\n",
    " >> swarm/populate_\"$RESULT\".txt\n",
    "        done\n",
    "    done\n",
    "done\n",
    "\n",
    "sed 's/lnmxi/lnmxs_intcp/g' swarm/populate_outGWAS.txt > test.txt # lnmxi -> lnmxs\n",
    "head -n2 test.txt\n",
    "swarm -f test.txt --time=0:01:00 -g 2 -b 40 --logdir swarm/t --partition=quick --devel\n",
    "\n",
    "## result check\n",
    "# ls outGWAS/*/lgsbl/*/all.tab > test.txt\n",
    "# awk 'BEGIN{FS=\"/\";OFS=\";\"}{print $3,$2,$4}'  test.txt > test2.txt\n",
    "# cut -d';' -f1-3 models.txt | grep \"lgsbl\" > test3.txt\n",
    "# cat test2.txt test3.txt | sort | uniq -c "
   ]
  },
  {
   "cell_type": "code",
   "execution_count": 11,
   "metadata": {},
   "outputs": [
    {
     "name": "stdout",
     "output_type": "stream",
     "text": [
      "outGWAS/PARKFIT/lnsgl/MMSE/all.tab -> outGWAS/PARKFIT/lnmxs_intcp/MMSE\n",
      "output/PARKFIT/lnsgl/MMSE/all.tab -> output/PARKFIT/lnmxs_intcp/MMSE\n"
     ]
    }
   ],
   "source": [
    "%%bash\n",
    "## lnsgl -> lnmxs_intcp (only 1 model == lnsgl;PARKFIT;MMSE;FEMALE,AAO,YEARfDIAG)\n",
    "for i in $(ls */*/lnsgl/*/all.tab);do\n",
    "    NEWDIR=$(echo $i | sed 's/lnsgl/lnmxs_intcp/' | sed 's/\\/all.tab//')\n",
    "    mkdir -p $NEWDIR\n",
    "    cp $i $NEWDIR\n",
    "    echo \"$i -> $NEWDIR\"\n",
    "done"
   ]
  },
  {
   "cell_type": "code",
   "execution_count": 4,
   "metadata": {},
   "outputs": [],
   "source": [
    "%%bash\n",
    "# MetaAnalysis by METAL.\n",
    "## First create files ready for meta analysis\n",
    "# Logistic regression at baseline\n",
    "RESULT=\"outGWAS\"\n",
    "rm -f meta/$RESULT/*/*.metal\n",
    "for i in $(tail -n +2 models.txt);do\n",
    "    MODEL=$(echo $i | cut -d\";\" -f1)\n",
    "    DATASET=$(echo $i | cut -d\";\" -f2)\n",
    "    OUTCOME=$(echo $i | cut -d\";\" -f3)\n",
    "    if [ $MODEL == \"lnmxi\" ];then # lnsgl will be combined with lnmxi\n",
    "        MODEL=lnmxs_intcp\n",
    "    elif [ $MODEL == \"lnsgl\" ];then # lnsgl will be combined with lnmxi\n",
    "        MODEL=lnmxs_intcp\n",
    "    fi\n",
    "    mkdir -p meta/$RESULT/$MODEL\n",
    "    echo \"\n",
    "MARKER POS\n",
    "ALLELE A1 A2\n",
    "FREQ   ALT_Frq\n",
    "EFFECT BETA\n",
    "PVALUE P\n",
    "STDERR SE\n",
    "GENOMICCONTROL ON \n",
    "PROCESS $RESULT/$DATASET/$MODEL/$OUTCOME/all.tab\" >> meta/$RESULT/$MODEL/$OUTCOME.metal\n",
    "done\n",
    "for i in $(ls meta/$RESULT/*/*.metal);do\n",
    "    sed -i -e '1 iSCHEME STDERR\\nAVERAGEFREQ ON\\nMINMAXFREQ ON' \\\n",
    "    -e \"\\$aOUTFILE $(echo $i | cut -d\".\" -f1) .tbl\\nANALYZE HETEROGENEITY\\nQUIT\" $i\n",
    "done"
   ]
  },
  {
   "cell_type": "code",
   "execution_count": 6,
   "metadata": {},
   "outputs": [
    {
     "name": "stdout",
     "output_type": "stream",
     "text": [
      "Loading modules metal\n",
      "42 commands run in 7 subjobs, each command requiring 6 gb and 1 thread, packing 2 processes per subjob, running 3 processes serially per subjob\n",
      "sbatch --array=0-6 --job-name=swarm --output=/dev/null --error=/dev/null --cpus-per-task=2 --mem=12288 --partition=quick --time=04:00:00 /spin1/swarm/iwakih2/2ijg971BkT/swarm.batch\n"
     ]
    }
   ],
   "source": [
    "%%bash\n",
    "rm -f swarm/metal.txt\n",
    "for i in $(ls meta/outGWAS/*/*.metal);do\n",
    "    echo \"metal $i\" >> swarm/metal.txt\n",
    "done\n",
    "rm -rf swarm/metal\n",
    "grep 'coxhm\\|lnmxs\\|lnmxs_intcp\\|lgsbl' swarm/metal.txt > swarm/metal_outGWAS.txt\n",
    "swarm -f swarm/metal_outGWAS.txt -g 6 -p 2 -b 3 --time=1:20:00 --module metal --logdir swarm/metal --partition=quick --devel "
   ]
  },
  {
   "cell_type": "code",
   "execution_count": 7,
   "metadata": {},
   "outputs": [
    {
     "name": "stdout",
     "output_type": "stream",
     "text": [
      "10759074\n"
     ]
    }
   ],
   "source": [
    "%%bash\n",
    "swarm -f swarm/metal_outGWAS.txt -g 6 -p 2 -b 3 --time=0:30:00 --module metal --logdir swarm/metal --partition=quick --devel"
   ]
  },
  {
   "cell_type": "code",
   "execution_count": 10,
   "metadata": {},
   "outputs": [
    {
     "name": "stdout",
     "output_type": "stream",
     "text": [
      "swarm -f swarm/meta_filt.txt -g 6 -p 2 -b 3 --time=0:10:00 --module R --logdir swarm/metal --partition=quick --devel\n",
      "Loading modules R\n",
      "42 commands run in 7 subjobs, each command requiring 6 gb and 1 thread, packing 2 processes per subjob, running 3 processes serially per subjob\n",
      "sbatch --array=0-6 --job-name=swarm --output=/dev/null --error=/dev/null --cpus-per-task=2 --mem=12288 --partition=quick --time=30:00 /spin1/swarm/iwakih2/7WUCYVR0lg/swarm.batch\n"
     ]
    }
   ],
   "source": [
    "%%bash\n",
    "# Rscript for MH plot QQ plot\n",
    "echo '\n",
    "args <- commandArgs(trailingOnly = TRUE)\n",
    "require(\"qqman\");require(\"data.table\");require(\"tidyr\");require(dplyr)\n",
    "FOLDER=args[1]\n",
    "RESULT=args[2]\n",
    "MODEL=args[3]\n",
    "OUTCOME=args[4]\n",
    "MH = fread(cmd = paste(\"cut -f 1,10,16 \",FOLDER, \"/\", RESULT, \"/\", MODEL, \"/\", OUTCOME, \"_filt.txt\", sep=\"\")) %>%\n",
    "  separate(MarkerName, c(\"CHR\", \"BP\"), sep=\":\") %>% rename(P=`P-value`, SNP=ID) %>% \n",
    "  mutate_at(vars(\"CHR\", \"BP\", \"P\"), as.numeric)\n",
    "# lambda\n",
    "chisq <- qchisq(1-median(MH$P),1)\n",
    "lambda = median(chisq)/qchisq(0.5,1)\n",
    "# QQ plot\n",
    "png(paste(FOLDER, \"/\", RESULT, \"/\", MODEL, \"/\", OUTCOME, \"_QQ.png\", sep=\"\"))\n",
    "qq(MH$P, main = paste(OUTCOME, \"in\", MODEL))\n",
    "text(4, 1, sprintf(\"lambda = %.3f\", lambda))\n",
    "text(4, 2, paste(\"N of variants =\", nrow(MH)))\n",
    "dev.off()\n",
    "# MH plot if lambda is not too large.\n",
    "if(lambda < 1.1){\n",
    "    maxlogP=-log10(min(MH$P))\n",
    "    png(paste(FOLDER, \"/\", RESULT, \"/\", MODEL, \"/\", OUTCOME,\"_MH.png\", sep=\"\"), width=2000, height=1000, pointsize=18)\n",
    "    manhattan(MH, col = c(\"blue4\", \"orange3\"), main=paste(OUTCOME, \"in\", MODEL), cex.axis = 0.6, annotatePval = 0.00001, ylim=c(0, max(10, maxlogP)))\n",
    "    dev.off()\n",
    "}' > t/QQMH.R\n",
    "\n",
    "\n",
    "\n",
    "# count the number of datasets in the meta-analysis ...1hour. \n",
    "## filter only results reported at least half of the cohorts, and I2<80.    FreqMax - FreqMix<0.15 \n",
    "## MAF 0.05\n",
    "cut -d\";\" -f 1,3 models.txt | sort | uniq -c |sed 's/;/ /g'| awk 'BEGIN{OFS=\",\"}{print $2,$3,$1}' > t/NinMeta.csv\n",
    "FOLDER=meta\n",
    "RESULT=outGWAS\n",
    "rm -f swarm/\"$FOLDER\"_filt.txt\n",
    "rm -f $FOLDER/$RESULT/GWAS_signal.txt\n",
    "for MODEL in coxhm lgsbl lnmxi lnmxs;do\n",
    "    for i in $(grep ^\"$MODEL\" t/NinMeta.csv);do\n",
    "        OUTCOME=$(echo $i | cut -d, -f2)\n",
    "        N_COHORTs=$(echo $i | cut -d, -f3)\n",
    "        THRES=$(echo $[(N_COHORTs) / 2 ])\n",
    "        if [ $MODEL == lnmxi ];then\n",
    "            MODEL=lnmxs_intcp # lnmxi -> lnmxs_intcp\n",
    "        fi\n",
    "        echo \"\n",
    "awk 'NR==1{print;next}\\$14>='$THRES' && \\$14 > 0 && \\$12<80 && \\$7-\\$6 < 0.15 && \\$4>0.05  && \\$4<0.95{print| \\\"LANG=C sort\\\"}' $FOLDER/$RESULT/$MODEL/\"$OUTCOME\"1.tbl |\\\n",
    " join -t\\$'\\t' --header - ../tool/HRC_RS_conversion_sorted.txt > $FOLDER/$RESULT/$MODEL/\"$OUTCOME\"_filt.txt;\\\n",
    "Rscript --vanilla t/QQMH.R $FOLDER $RESULT $MODEL $OUTCOME;\\\n",
    "echo \"$MODEL $OUTCOME\" >> $FOLDER/$RESULT/GWAS_signal.txt;\\\n",
    "awk '\\$10+0 < 5e-8 {print}' $FOLDER/$RESULT/$MODEL/\"$OUTCOME\"_filt.txt >> $FOLDER/$RESULT/GWAS_signal.txt\" >> swarm/\"$FOLDER\"_filt.txt\n",
    "    done\n",
    "done\n",
    "echo swarm -f swarm/\"$FOLDER\"_filt.txt -g 6 -p 2 -b 3 --time=0:10:00 --module R --logdir swarm/metal --partition=quick --devel\n",
    "swarm -f swarm/meta_filt.txt -g 6 -p 2 -b 3 --time=0:10:00 --module R --logdir swarm/metal --partition=quick --devel"
   ]
  },
  {
   "cell_type": "code",
   "execution_count": 13,
   "metadata": {},
   "outputs": [
    {
     "name": "stdout",
     "output_type": "stream",
     "text": [
      "10759185\n"
     ]
    }
   ],
   "source": [
    "%%bash\n",
    "rm -rf meta/outGWAS/*/*.png\n",
    "swarm -f swarm/meta_filt.txt -g 6 -p 2 -b 3 --time=0:10:00 --module R --logdir swarm/metal --partition=quick --dependency=afterany:10759074 --devel"
   ]
  },
  {
   "cell_type": "code",
   "execution_count": null,
   "metadata": {},
   "outputs": [],
   "source": [
    "%%bash\n",
    "awk 'NR==1{print;next}$14>='4' && $14 > 0 && $12<80 && $7-$6 < 0.15 && $4>0.05  && $4<0.95{print| \"LANG=C sort\"}' meta/outGWAS/coxhm/HY31.tbl | join -t$'\\t' --header - ../tool/HRC_RS_conversion_sorted.txt > meta/outGWAS/coxhm/HY3_filt.txt;Rscript --vanilla t/QQMH.R meta outGWAS coxhm HY3;echo coxhm HY3 >> meta/outGWAS/GWAS_signal.txt;awk '$10+0 < 5e-8 {print}' meta/outGWAS/coxhm/HY3_filt.txt >> meta/outGWAS/GWAS_signal.txt"
   ]
  },
  {
   "cell_type": "code",
   "execution_count": 1,
   "metadata": {},
   "outputs": [],
   "source": [
    "%%bash\n",
    "grep '9:108058562' outGWAS/*/coxhm/HY3/all.tab > t/forest.txt"
   ]
  },
  {
   "cell_type": "code",
   "execution_count": 3,
   "metadata": {},
   "outputs": [
    {
     "name": "stdout",
     "output_type": "stream",
     "text": [
      "POS\tA1\tA2\tBETA\tSE\tP\tALT_Frq\tRsq\n"
     ]
    }
   ],
   "source": [
    "%%bash\n",
    "head -n1 outGWAS/CORIELL//coxhm/HY3/all.tab"
   ]
  },
  {
   "cell_type": "code",
   "execution_count": null,
   "metadata": {},
   "outputs": [],
   "source": []
  },
  {
   "cell_type": "code",
   "execution_count": null,
   "metadata": {},
   "outputs": [],
   "source": []
  },
  {
   "cell_type": "code",
   "execution_count": null,
   "metadata": {},
   "outputs": [],
   "source": []
  },
  {
   "cell_type": "code",
   "execution_count": null,
   "metadata": {},
   "outputs": [],
   "source": []
  },
  {
   "cell_type": "code",
   "execution_count": null,
   "metadata": {},
   "outputs": [],
   "source": []
  },
  {
   "cell_type": "code",
   "execution_count": null,
   "metadata": {},
   "outputs": [],
   "source": []
  },
  {
   "cell_type": "code",
   "execution_count": null,
   "metadata": {},
   "outputs": [],
   "source": []
  },
  {
   "cell_type": "code",
   "execution_count": null,
   "metadata": {},
   "outputs": [],
   "source": []
  },
  {
   "cell_type": "code",
   "execution_count": null,
   "metadata": {},
   "outputs": [],
   "source": []
  },
  {
   "cell_type": "code",
   "execution_count": null,
   "metadata": {},
   "outputs": [],
   "source": []
  },
  {
   "cell_type": "code",
   "execution_count": null,
   "metadata": {},
   "outputs": [],
   "source": []
  },
  {
   "cell_type": "code",
   "execution_count": null,
   "metadata": {},
   "outputs": [],
   "source": []
  },
  {
   "cell_type": "code",
   "execution_count": null,
   "metadata": {},
   "outputs": [],
   "source": []
  },
  {
   "cell_type": "code",
   "execution_count": null,
   "metadata": {},
   "outputs": [],
   "source": []
  },
  {
   "cell_type": "code",
   "execution_count": null,
   "metadata": {},
   "outputs": [],
   "source": []
  },
  {
   "cell_type": "code",
   "execution_count": null,
   "metadata": {},
   "outputs": [],
   "source": []
  },
  {
   "cell_type": "code",
   "execution_count": null,
   "metadata": {},
   "outputs": [],
   "source": []
  },
  {
   "cell_type": "markdown",
   "metadata": {},
   "source": [
    "# Rsq>0.8 MAF>0.05"
   ]
  },
  {
   "cell_type": "code",
   "execution_count": 9,
   "metadata": {},
   "outputs": [
    {
     "name": "stdout",
     "output_type": "stream",
     "text": [
      "74 commands run in 2 subjobs, each command requiring 2 gb and 1 thread, running 40 processes serially per subjob\n",
      "sbatch --array=0-1 --job-name=swarm --output=swarm/t/swarm_%A_%a.o --error=swarm/t/swarm_%A_%a.e --cpus-per-task=1 --mem=2048 --partition=quick --time=40:00 /spin1/swarm/iwakih2/LS2kngqE0I/swarm.batch\n"
     ]
    }
   ],
   "source": [
    "%%bash\n",
    "# populate all the R results into one file (all.tab) Time consuming process. Filter abs(beta) < 10\n",
    "# Join ALT_Frq and Rsq file. But because cut*.txt.gz includes multiple allele for filtered positions, remove A1 is not the one with MAF>0.01\n",
    "rm -f swarm/populate*.txt\n",
    "for RESULT in \"outGWASrsq8\";do  \n",
    "    for MODEL in coxhm lnmxi lnmxs;do\n",
    "        for i in $(grep ^\"$MODEL\" models.txt);do\n",
    "            DATASET=$(echo $i | cut -d\";\" -f2)\n",
    "            OUTCOME=$(echo $i | cut -d\";\" -f3)\n",
    "            if [ $MODEL == \"lnmxi\" ];then # lnsgl will be combined with lnmxi\n",
    "                MODEL=lnmxs_intcp\n",
    "            fi\n",
    "            mkdir -p $RESULT/$DATASET/$MODEL/$OUTCOME\n",
    "echo \"awk '\\$8>0.8{print}' outGWAS/$DATASET/$MODEL/$OUTCOME/all.tab > $RESULT/$DATASET/$MODEL/$OUTCOME/all.tab\" >> swarm/populate_\"$RESULT\".txt\n",
    "        done\n",
    "    done\n",
    "done\n",
    "\n",
    "grep \"lnmxs_intcp\" swarm/populate_\"$RESULT\".txt > test.txt # lnmxi -> lnmxs\n",
    "swarm -f test.txt --time=0:01:00 -g 2 -b 40 --logdir swarm/t --partition=quick --devel"
   ]
  },
  {
   "cell_type": "code",
   "execution_count": 4,
   "metadata": {},
   "outputs": [],
   "source": [
    "%%bash\n",
    "mkdir outGWASrsq8/PARKFIT/lnmxs_slope/MMSE\n",
    "cp outGWAS/PARKFIT/lnsgl/MMSE/all.tab outGWASrsq8/PARKFIT/lnmxs_slope/MMSE"
   ]
  },
  {
   "cell_type": "code",
   "execution_count": 11,
   "metadata": {},
   "outputs": [
    {
     "name": "stdout",
     "output_type": "stream",
     "text": [
      "Loading modules metal\n",
      "30 commands run in 5 subjobs, each command requiring 6 gb and 1 thread, packing 2 processes per subjob, running 3 processes serially per subjob\n",
      "sbatch --array=0-4 --job-name=swarm --output=/dev/null --error=/dev/null --cpus-per-task=2 --mem=12288 --partition=quick --time=04:00:00 /spin1/swarm/iwakih2/CGJcPfffSf/swarm.batch\n"
     ]
    }
   ],
   "source": [
    "%%bash\n",
    "RESULT=\"outGWASrsq8\"\n",
    "rm -f meta/$RESULT/*/*.metal\n",
    "for i in $(tail -n +2 models.txt);do\n",
    "    MODEL=$(echo $i | cut -d\";\" -f1)\n",
    "    DATASET=$(echo $i | cut -d\";\" -f2)\n",
    "    OUTCOME=$(echo $i | cut -d\";\" -f3)\n",
    "    if [ $MODEL == \"lnmxi\" ];then # lnsgl will be combined with lnmxi\n",
    "        MODEL=lnmxs_intcp\n",
    "    elif [ $MODEL == \"lnsgl\" ];then # lnsgl will be combined with lnmxi\n",
    "        MODEL=lnmxs_intcp\n",
    "    fi\n",
    "    mkdir -p meta/$RESULT/$MODEL\n",
    "    echo \"\n",
    "MARKER POS\n",
    "ALLELE A1 A2\n",
    "FREQ   ALT_Frq\n",
    "EFFECT BETA\n",
    "PVALUE P\n",
    "STDERR SE\n",
    "PROCESS $RESULT/$DATASET/$MODEL/$OUTCOME/all.tab\" >> meta/$RESULT/$MODEL/$OUTCOME.metal\n",
    "done\n",
    "\n",
    "for i in $(ls meta/$RESULT/*/*.metal);do\n",
    "    sed -i -e '1 iSCHEME STDERR\\nAVERAGEFREQ ON\\nMINMAXFREQ ON' \\\n",
    "    -e \"\\$aOUTFILE $(echo $i | cut -d\".\" -f1) .tbl\\nANALYZE HETEROGENEITY\\nQUIT\" $i\n",
    "done\n",
    "\n",
    "rm -f swarm/metal.txt\n",
    "for i in $(ls meta/$RESULT/*/*.metal);do\n",
    "    echo \"metal $i\" >> swarm/metal.txt\n",
    "done\n",
    "rm -rf swarm/metal\n",
    "grep 'coxhm\\|lnmxs' swarm/metal.txt > swarm/metal_outGWAS.txt\n",
    "swarm -f swarm/metal_outGWAS.txt -g 6 -p 2 -b 3 --time=1:20:00 --module metal --logdir swarm/metal --partition=quick --devel "
   ]
  },
  {
   "cell_type": "code",
   "execution_count": 21,
   "metadata": {},
   "outputs": [
    {
     "name": "stdout",
     "output_type": "stream",
     "text": [
      "Loading modules R\n",
      "42 commands run in 3 subjobs, each command requiring 6 gb and 1 thread, packing 2 processes per subjob, running 7 processes serially per subjob\n",
      "sbatch --array=0-2 --job-name=swarm --output=/dev/null --error=/dev/null --cpus-per-task=2 --mem=12288 --partition=quick --time=01:10:00 /spin1/swarm/iwakih2/msB__naEmO/swarm.batch\n",
      "swarm -f swarm/meta_filt.txt -g 6 -p 2 -b 7 --time=0:10:00 --module R --logdir swarm/metal --partition=quick\n"
     ]
    }
   ],
   "source": [
    "%%bash\n",
    "echo '\n",
    "args <- commandArgs(trailingOnly = TRUE)\n",
    "require(\"qqman\");require(\"data.table\");require(\"tidyr\");require(dplyr)\n",
    "FOLDER=args[1]\n",
    "RESULT=args[2]\n",
    "MODEL=args[3]\n",
    "OUTCOME=args[4]\n",
    "MH = fread(cmd = paste(\"cut -f 1,10,16 \",FOLDER, \"/\", RESULT, \"/\", MODEL, \"/\", OUTCOME, \"_filt.txt\", sep=\"\")) %>%\n",
    "  separate(MarkerName, c(\"CHR\", \"BP\"), sep=\":\") %>% rename(P=`P-value`, SNP=ID) %>% \n",
    "  mutate_at(vars(\"CHR\", \"BP\", \"P\"), as.numeric)\n",
    "# lambda\n",
    "chisq <- qchisq(1-median(MH$P),1)\n",
    "lambda = median(chisq)/qchisq(0.5,1)\n",
    "# QQ plot\n",
    "png(paste(FOLDER, \"/\", RESULT, \"/\", MODEL, \"/\", OUTCOME, \"_QQ.png\", sep=\"\"))\n",
    "qq(MH$P, main = paste(OUTCOME, \"in\", MODEL))\n",
    "text(4, 1, sprintf(\"lambda = %.3f\", lambda))\n",
    "text(4, 2, paste(\"N of variants =\", nrow(MH)))\n",
    "dev.off()\n",
    "# MH plot if lambda is not too large.\n",
    "if(lambda < 1.1){\n",
    "    maxlogP=-log10(min(MH$P))\n",
    "    png(paste(FOLDER, \"/\", RESULT, \"/\", MODEL, \"/\", OUTCOME,\"_MH.png\", sep=\"\"), width=2000, height=1000, pointsize=18)\n",
    "    manhattan(MH, col = c(\"blue4\", \"orange3\"), main=paste(OUTCOME, \"in\", MODEL), cex.axis = 0.6, annotatePval = 0.00001, ylim=c(0, max(10, maxlogP)))\n",
    "    dev.off()\n",
    "}' > t/QQMH.R\n",
    "\n",
    "\n",
    "\n",
    "# count the number of datasets in the meta-analysis ...1hour. \n",
    "## filter only results reported at least half of the cohorts, and I2<80.    FreqMax - FreqMix<0.15 \n",
    "## MAF 0.05\n",
    "cut -d\";\" -f 1,3 models.txt | sort | uniq -c |sed 's/;/ /g'| awk 'BEGIN{OFS=\",\"}{print $2,$3,$1}' > t/NinMeta.csv\n",
    "FOLDER=meta\n",
    "RESULT=outGWASrsq8\n",
    "rm -f swarm/\"$FOLDER\"_filt.txt\n",
    "rm -f $FOLDER/$RESULT/GWAS_signal.txt\n",
    "for MODEL in coxhm lgsbl lnmxi lnmxs;do\n",
    "    for i in $(grep ^\"$MODEL\" t/NinMeta.csv);do\n",
    "        OUTCOME=$(echo $i | cut -d, -f2)\n",
    "        N_COHORTs=$(echo $i | cut -d, -f3)\n",
    "        THRES=$(echo $[(N_COHORTs) / 2 ])\n",
    "        if [ $MODEL == lnmxi ];then\n",
    "            MODEL=lnmxs_intcp # lnmxi -> lnmxs_intcp\n",
    "        fi\n",
    "        echo \"\n",
    "awk 'NR==1{print;next}\\$14>=$THRES && \\$14 > 0 && \\$12<80 && \\$7-\\$6 < 0.15 && \\$4>0.05  && \\$4<0.95{print| \\\"LANG=C sort\\\"}' $FOLDER/$RESULT/$MODEL/\"$OUTCOME\"1.tbl |\\\n",
    " join -t\\$'\\t' --header - ../tool/HRC_RS_conversion_sorted.txt > $FOLDER/$RESULT/$MODEL/\"$OUTCOME\"_filt.txt;\\\n",
    "Rscript --vanilla t/QQMH.R $FOLDER $RESULT $MODEL $OUTCOME;\\\n",
    "echo \"$MODEL $OUTCOME\" >> $FOLDER/$RESULT/GWAS_signal.txt;\\\n",
    "awk '\\$10+0 < 5e-8 {print}' $FOLDER/$RESULT/$MODEL/\"$OUTCOME\"_filt.txt >> $FOLDER/$RESULT/GWAS_signal.txt\" >> swarm/\"$FOLDER\"_filt.txt\n",
    "    done\n",
    "done\n",
    "swarm -f swarm/\"$FOLDER\"_filt.txt -g 6 -p 2 -b 7 --time=0:10:00 --module R --logdir swarm/metal --partition=quick --devel\n",
    "echo \"swarm -f swarm/\"$FOLDER\"_filt.txt -g 6 -p 2 -b 7 --time=0:10:00 --module R --logdir swarm/metal --partition=quick\""
   ]
  },
  {
   "cell_type": "markdown",
   "metadata": {},
   "source": [
    "Rsq > 0.8 severly restrict the number of SNPs to test.    \n",
    "\n",
    "# Why results are severely distorted? Check individual cohort\n",
    "\n",
    "MH = ... %>% filter(Rsq>0.8) %>% ...: can be adjustable\n",
    "MH = ... %>% filter(ALT_Frq>0.1) %>% ...: can be adjustable"
   ]
  },
  {
   "cell_type": "code",
   "execution_count": 28,
   "metadata": {},
   "outputs": [
    {
     "name": "stdout",
     "output_type": "stream",
     "text": [
      "\n",
      "Rscript --vanilla t/QQMH.R outGWAS PPMI coxhm HY3\n"
     ]
    }
   ],
   "source": [
    "%%bash\n",
    "echo '\n",
    "args <- commandArgs(trailingOnly = TRUE)\n",
    "require(\"qqman\");require(\"data.table\");require(\"tidyr\");require(dplyr)\n",
    "RESULT=args[1]\n",
    "DATASET=args[2]\n",
    "MODEL=args[3]\n",
    "OUTCOME=args[4]\n",
    "MH = fread(cmd = paste(\"cut -f 1,6,7,8 \", RESULT, \"/\", DATASET, \"/\", MODEL, \"/\", OUTCOME, \"/\", \"all.tab\", sep=\"\")) %>%\n",
    "  separate(POS, c(\"CHR\", \"BP\"), sep=\":\") %>% filter(ALT_Frq>0.1) %>%\n",
    "  mutate_at(vars(\"CHR\", \"BP\", \"P\"), as.numeric)\n",
    "# lambda\n",
    "chisq <- qchisq(1-median(MH$P),1)\n",
    "lambda = median(chisq)/qchisq(0.5,1)\n",
    "# QQ plot\n",
    "png(paste(RESULT, DATASET, MODEL, OUTCOME, \"aQQ.png\", sep=\"/\"))\n",
    "qq(MH$P, main = paste(OUTCOME, \"in\", MODEL))\n",
    "text(4, 1, sprintf(\"lambda = %.3f\", lambda))\n",
    "text(4, 2, paste(\"N of variants =\", nrow(MH)))\n",
    "dev.off()\n",
    "' > t/QQMH.R\n",
    "\n",
    "\n",
    "\n",
    "RESULT=outGWAS\n",
    "DATASET=PPMI\n",
    "MODEL=coxhm\n",
    "OUTCOME=HY3\n",
    "echo \"\n",
    "Rscript --vanilla t/QQMH.R $RESULT $DATASET $MODEL $OUTCOME\""
   ]
  }
 ],
 "metadata": {
  "kernelspec": {
   "display_name": "Python 3",
   "language": "python",
   "name": "python3"
  },
  "language_info": {
   "codemirror_mode": {
    "name": "ipython",
    "version": 3
   },
   "file_extension": ".py",
   "mimetype": "text/x-python",
   "name": "python",
   "nbconvert_exporter": "python",
   "pygments_lexer": "ipython3",
   "version": "3.5.5"
  }
 },
 "nbformat": 4,
 "nbformat_minor": 2
}
